{
 "cells": [
  {
   "cell_type": "code",
   "execution_count": 1,
   "id": "7773d02f",
   "metadata": {},
   "outputs": [],
   "source": [
    "import pandas as pd\n",
    "import numpy as np\n",
    "import matplotlib.pyplot as plt\n",
    "import seaborn as sns\n",
    "from datetime import datetime\n",
    "import calendar"
   ]
  },
  {
   "cell_type": "code",
   "execution_count": 2,
   "id": "9fdbbd2a",
   "metadata": {},
   "outputs": [],
   "source": [
    "## 1. Շաբաթվա ո՞ր օրերին է Coffee-ի ամենաշատ վաճառքը լինում \n",
    "## Answer: on Saturday\n",
    "\n",
    "## 2. Ստուգել՝ կա՞ արդյոք կորելացիա Tea և Jam ապրանքների միջև\n",
    "## Answer: Yes, there is 100% correlation between them, which means that they are highly dependent on one other\n",
    "\n",
    "## 3. Ո՞րն է ամենաշատ վաճառվող ապրանքը ցանկում։\n",
    "## Answer: Coffee"
   ]
  },
  {
   "cell_type": "code",
   "execution_count": 3,
   "id": "c07855a3",
   "metadata": {},
   "outputs": [],
   "source": [
    "data = pd.read_excel(\"DA_task.xlsx\")"
   ]
  },
  {
   "cell_type": "code",
   "execution_count": 4,
   "id": "c6150387",
   "metadata": {},
   "outputs": [
    {
     "data": {
      "text/html": [
       "<div>\n",
       "<style scoped>\n",
       "    .dataframe tbody tr th:only-of-type {\n",
       "        vertical-align: middle;\n",
       "    }\n",
       "\n",
       "    .dataframe tbody tr th {\n",
       "        vertical-align: top;\n",
       "    }\n",
       "\n",
       "    .dataframe thead th {\n",
       "        text-align: right;\n",
       "    }\n",
       "</style>\n",
       "<table border=\"1\" class=\"dataframe\">\n",
       "  <thead>\n",
       "    <tr style=\"text-align: right;\">\n",
       "      <th></th>\n",
       "      <th>Item</th>\n",
       "      <th>date_time</th>\n",
       "      <th>period_day</th>\n",
       "      <th>weekday_weekend</th>\n",
       "    </tr>\n",
       "  </thead>\n",
       "  <tbody>\n",
       "    <tr>\n",
       "      <th>0</th>\n",
       "      <td>Bread</td>\n",
       "      <td>2016-10-30 09:58:00</td>\n",
       "      <td>morning</td>\n",
       "      <td>weekend</td>\n",
       "    </tr>\n",
       "    <tr>\n",
       "      <th>1</th>\n",
       "      <td>Scandinavian</td>\n",
       "      <td>2016-10-30 10:05:00</td>\n",
       "      <td>morning</td>\n",
       "      <td>weekend</td>\n",
       "    </tr>\n",
       "    <tr>\n",
       "      <th>2</th>\n",
       "      <td>Scandinavian</td>\n",
       "      <td>2016-10-30 10:05:00</td>\n",
       "      <td>morning</td>\n",
       "      <td>weekend</td>\n",
       "    </tr>\n",
       "    <tr>\n",
       "      <th>3</th>\n",
       "      <td>Hot chocolate</td>\n",
       "      <td>2016-10-30 10:07:00</td>\n",
       "      <td>morning</td>\n",
       "      <td>weekend</td>\n",
       "    </tr>\n",
       "    <tr>\n",
       "      <th>4</th>\n",
       "      <td>Jam</td>\n",
       "      <td>2016-10-30 10:07:00</td>\n",
       "      <td>morning</td>\n",
       "      <td>weekend</td>\n",
       "    </tr>\n",
       "  </tbody>\n",
       "</table>\n",
       "</div>"
      ],
      "text/plain": [
       "            Item           date_time period_day weekday_weekend\n",
       "0          Bread 2016-10-30 09:58:00    morning         weekend\n",
       "1   Scandinavian 2016-10-30 10:05:00    morning         weekend\n",
       "2   Scandinavian 2016-10-30 10:05:00    morning         weekend\n",
       "3  Hot chocolate 2016-10-30 10:07:00    morning         weekend\n",
       "4            Jam 2016-10-30 10:07:00    morning         weekend"
      ]
     },
     "execution_count": 4,
     "metadata": {},
     "output_type": "execute_result"
    }
   ],
   "source": [
    "data.head()"
   ]
  },
  {
   "cell_type": "markdown",
   "id": "8871cf22",
   "metadata": {},
   "source": []
  },
  {
   "cell_type": "code",
   "execution_count": 5,
   "id": "054a2484",
   "metadata": {
    "scrolled": true
   },
   "outputs": [
    {
     "data": {
      "text/plain": [
       "(20507, 4)"
      ]
     },
     "execution_count": 5,
     "metadata": {},
     "output_type": "execute_result"
    }
   ],
   "source": [
    "data.shape"
   ]
  },
  {
   "cell_type": "code",
   "execution_count": 6,
   "id": "94c261ba",
   "metadata": {},
   "outputs": [
    {
     "name": "stdout",
     "output_type": "stream",
     "text": [
      "<class 'pandas.core.frame.DataFrame'>\n",
      "RangeIndex: 20507 entries, 0 to 20506\n",
      "Data columns (total 4 columns):\n",
      " #   Column           Non-Null Count  Dtype         \n",
      "---  ------           --------------  -----         \n",
      " 0   Item             20507 non-null  object        \n",
      " 1   date_time        20507 non-null  datetime64[ns]\n",
      " 2   period_day       20507 non-null  object        \n",
      " 3   weekday_weekend  20507 non-null  object        \n",
      "dtypes: datetime64[ns](1), object(3)\n",
      "memory usage: 641.0+ KB\n"
     ]
    }
   ],
   "source": [
    "data.info()"
   ]
  },
  {
   "cell_type": "code",
   "execution_count": 7,
   "id": "5de19170",
   "metadata": {},
   "outputs": [
    {
     "name": "stderr",
     "output_type": "stream",
     "text": [
      "<ipython-input-7-2bb0b18689d4>:1: FutureWarning: Treating datetime data as categorical rather than numeric in `.describe` is deprecated and will be removed in a future version of pandas. Specify `datetime_is_numeric=True` to silence this warning and adopt the future behavior now.\n",
      "  data.describe()\n"
     ]
    },
    {
     "data": {
      "text/html": [
       "<div>\n",
       "<style scoped>\n",
       "    .dataframe tbody tr th:only-of-type {\n",
       "        vertical-align: middle;\n",
       "    }\n",
       "\n",
       "    .dataframe tbody tr th {\n",
       "        vertical-align: top;\n",
       "    }\n",
       "\n",
       "    .dataframe thead th {\n",
       "        text-align: right;\n",
       "    }\n",
       "</style>\n",
       "<table border=\"1\" class=\"dataframe\">\n",
       "  <thead>\n",
       "    <tr style=\"text-align: right;\">\n",
       "      <th></th>\n",
       "      <th>Item</th>\n",
       "      <th>date_time</th>\n",
       "      <th>period_day</th>\n",
       "      <th>weekday_weekend</th>\n",
       "    </tr>\n",
       "  </thead>\n",
       "  <tbody>\n",
       "    <tr>\n",
       "      <th>count</th>\n",
       "      <td>20507</td>\n",
       "      <td>20507</td>\n",
       "      <td>20507</td>\n",
       "      <td>20507</td>\n",
       "    </tr>\n",
       "    <tr>\n",
       "      <th>unique</th>\n",
       "      <td>94</td>\n",
       "      <td>9182</td>\n",
       "      <td>4</td>\n",
       "      <td>2</td>\n",
       "    </tr>\n",
       "    <tr>\n",
       "      <th>top</th>\n",
       "      <td>Coffee</td>\n",
       "      <td>2017-02-05 11:58:00</td>\n",
       "      <td>afternoon</td>\n",
       "      <td>weekday</td>\n",
       "    </tr>\n",
       "    <tr>\n",
       "      <th>freq</th>\n",
       "      <td>5471</td>\n",
       "      <td>12</td>\n",
       "      <td>11569</td>\n",
       "      <td>12807</td>\n",
       "    </tr>\n",
       "    <tr>\n",
       "      <th>first</th>\n",
       "      <td>NaN</td>\n",
       "      <td>2016-10-30 09:58:00</td>\n",
       "      <td>NaN</td>\n",
       "      <td>NaN</td>\n",
       "    </tr>\n",
       "    <tr>\n",
       "      <th>last</th>\n",
       "      <td>NaN</td>\n",
       "      <td>2017-04-09 15:04:00</td>\n",
       "      <td>NaN</td>\n",
       "      <td>NaN</td>\n",
       "    </tr>\n",
       "  </tbody>\n",
       "</table>\n",
       "</div>"
      ],
      "text/plain": [
       "          Item            date_time period_day weekday_weekend\n",
       "count    20507                20507      20507           20507\n",
       "unique      94                 9182          4               2\n",
       "top     Coffee  2017-02-05 11:58:00  afternoon         weekday\n",
       "freq      5471                   12      11569           12807\n",
       "first      NaN  2016-10-30 09:58:00        NaN             NaN\n",
       "last       NaN  2017-04-09 15:04:00        NaN             NaN"
      ]
     },
     "execution_count": 7,
     "metadata": {},
     "output_type": "execute_result"
    }
   ],
   "source": [
    "data.describe()"
   ]
  },
  {
   "cell_type": "code",
   "execution_count": 8,
   "id": "dce60a9c",
   "metadata": {},
   "outputs": [],
   "source": [
    "#insights\n",
    "\n",
    "#there are not null values in the dataframe which is good and implies that the data is clean\n",
    "#there are 9182 unique dates and times, which means that some orders contain more than one item.\n",
    "#there are 94 types of items bought during 4 periods of the day\n",
    "#coffee is the most ordered item"
   ]
  },
  {
   "cell_type": "code",
   "execution_count": 9,
   "id": "1ba61248",
   "metadata": {
    "scrolled": true
   },
   "outputs": [
    {
     "data": {
      "text/plain": [
       "weekday    12807\n",
       "weekend     7700\n",
       "Name: weekday_weekend, dtype: int64"
      ]
     },
     "execution_count": 9,
     "metadata": {},
     "output_type": "execute_result"
    }
   ],
   "source": [
    "data.weekday_weekend.value_counts()"
   ]
  },
  {
   "cell_type": "code",
   "execution_count": 10,
   "id": "740957d4",
   "metadata": {},
   "outputs": [
    {
     "data": {
      "text/plain": [
       "afternoon    11569\n",
       "morning       8404\n",
       "evening        520\n",
       "night           14\n",
       "Name: period_day, dtype: int64"
      ]
     },
     "execution_count": 10,
     "metadata": {},
     "output_type": "execute_result"
    }
   ],
   "source": [
    "data.period_day.value_counts()"
   ]
  },
  {
   "cell_type": "code",
   "execution_count": 11,
   "id": "29ac482e",
   "metadata": {
    "scrolled": true
   },
   "outputs": [
    {
     "data": {
      "text/plain": [
       "array(['Adjustment', 'Afternoon with the baker', 'Alfajores',\n",
       "       'Argentina Night', 'Art Tray', 'Bacon', 'Baguette', 'Bakewell',\n",
       "       'Bare Popcorn', 'Basket', 'Bowl Nic Pitt', 'Bread',\n",
       "       'Bread Pudding', 'Brioche and salami', 'Brownie', 'Cake',\n",
       "       'Caramel bites', 'Cherry me Dried fruit', 'Chicken Stew',\n",
       "       'Chicken sand', 'Chimichurri Oil', 'Chocolates',\n",
       "       'Christmas common', 'Coffee', 'Coffee granules', 'Coke', 'Cookies',\n",
       "       'Crepes', 'Crisps', 'Drinking chocolate spoons', 'Duck egg',\n",
       "       'Dulce de Leche', 'Eggs', \"Ella's Kitchen Pouches\", 'Empanadas',\n",
       "       'Extra Salami or Feta', 'Fairy Doors', 'Farm House', 'Focaccia',\n",
       "       'Frittata', 'Fudge', 'Gift voucher', 'Gingerbread syrup',\n",
       "       'Granola', 'Hack the stack', 'Half slice Monster',\n",
       "       'Hearty & Seasonal', 'Honey', 'Hot chocolate', 'Jam',\n",
       "       'Jammie Dodgers', 'Juice', 'Keeping It Local', 'Kids biscuit',\n",
       "       'Lemon and coconut', 'Medialuna', 'Mighty Protein',\n",
       "       'Mineral water', 'Mortimer', 'Muesli', 'Muffin',\n",
       "       'My-5 Fruit Shoot', 'Nomad bag', 'Olum & polenta', 'Panatone',\n",
       "       'Pastry', 'Pick and Mix Bowls', 'Pintxos', 'Polenta', 'Postcard',\n",
       "       'Raspberry shortbread sandwich', 'Raw bars', 'Salad', 'Sandwich',\n",
       "       'Scandinavian', 'Scone', 'Siblings', 'Smoothies', 'Soup',\n",
       "       'Spanish Brunch', 'Spread', 'Tacos/Fajita', 'Tartine', 'Tea',\n",
       "       'The BART', 'The Nomad', 'Tiffin', 'Toast', 'Truffles', 'Tshirt',\n",
       "       \"Valentine's card\", 'Vegan Feast', 'Vegan mincepie',\n",
       "       'Victorian Sponge'], dtype=object)"
      ]
     },
     "execution_count": 11,
     "metadata": {},
     "output_type": "execute_result"
    }
   ],
   "source": [
    "np.unique(data[\"Item\"])"
   ]
  },
  {
   "cell_type": "code",
   "execution_count": 12,
   "id": "421e170a",
   "metadata": {
    "scrolled": true
   },
   "outputs": [
    {
     "name": "stdout",
     "output_type": "stream",
     "text": [
      "Duplicates: 1782\n",
      "Missing values: 0\n",
      "Single valued columns: Index([], dtype='object')\n"
     ]
    }
   ],
   "source": [
    "#checking number of duplicates, missing values and columns with a single value\n",
    "print(\"Duplicates:\", data.duplicated().sum())\n",
    "print(\"Missing values:\", data.isna().sum().sum())\n",
    "print(\"Single valued columns:\", data.columns[data.nunique()==1])"
   ]
  },
  {
   "cell_type": "code",
   "execution_count": null,
   "id": "71ed9037",
   "metadata": {
    "scrolled": true
   },
   "outputs": [],
   "source": []
  },
  {
   "cell_type": "markdown",
   "id": "7062bc53",
   "metadata": {},
   "source": [
    "## 1. Շաբաթվա ո՞ր օրերին է Coffee-ի ամենաշատ վաճառքը լինում \n"
   ]
  },
  {
   "cell_type": "code",
   "execution_count": 13,
   "id": "8d43911f",
   "metadata": {
    "scrolled": false
   },
   "outputs": [
    {
     "data": {
      "text/html": [
       "<div>\n",
       "<style scoped>\n",
       "    .dataframe tbody tr th:only-of-type {\n",
       "        vertical-align: middle;\n",
       "    }\n",
       "\n",
       "    .dataframe tbody tr th {\n",
       "        vertical-align: top;\n",
       "    }\n",
       "\n",
       "    .dataframe thead th {\n",
       "        text-align: right;\n",
       "    }\n",
       "</style>\n",
       "<table border=\"1\" class=\"dataframe\">\n",
       "  <thead>\n",
       "    <tr style=\"text-align: right;\">\n",
       "      <th></th>\n",
       "      <th>Item</th>\n",
       "      <th>date_time</th>\n",
       "      <th>period_day</th>\n",
       "      <th>weekday_weekend</th>\n",
       "    </tr>\n",
       "  </thead>\n",
       "  <tbody>\n",
       "    <tr>\n",
       "      <th>7</th>\n",
       "      <td>Coffee</td>\n",
       "      <td>2016-10-30 10:13:00</td>\n",
       "      <td>morning</td>\n",
       "      <td>weekend</td>\n",
       "    </tr>\n",
       "    <tr>\n",
       "      <th>15</th>\n",
       "      <td>Coffee</td>\n",
       "      <td>2016-10-30 10:19:00</td>\n",
       "      <td>morning</td>\n",
       "      <td>weekend</td>\n",
       "    </tr>\n",
       "    <tr>\n",
       "      <th>27</th>\n",
       "      <td>Coffee</td>\n",
       "      <td>2016-10-30 10:30:00</td>\n",
       "      <td>morning</td>\n",
       "      <td>weekend</td>\n",
       "    </tr>\n",
       "    <tr>\n",
       "      <th>33</th>\n",
       "      <td>Coffee</td>\n",
       "      <td>2016-10-30 10:31:00</td>\n",
       "      <td>morning</td>\n",
       "      <td>weekend</td>\n",
       "    </tr>\n",
       "    <tr>\n",
       "      <th>41</th>\n",
       "      <td>Coffee</td>\n",
       "      <td>2016-10-30 10:37:00</td>\n",
       "      <td>morning</td>\n",
       "      <td>weekend</td>\n",
       "    </tr>\n",
       "    <tr>\n",
       "      <th>...</th>\n",
       "      <td>...</td>\n",
       "      <td>...</td>\n",
       "      <td>...</td>\n",
       "      <td>...</td>\n",
       "    </tr>\n",
       "    <tr>\n",
       "      <th>20483</th>\n",
       "      <td>Coffee</td>\n",
       "      <td>2017-04-09 12:32:00</td>\n",
       "      <td>afternoon</td>\n",
       "      <td>weekend</td>\n",
       "    </tr>\n",
       "    <tr>\n",
       "      <th>20485</th>\n",
       "      <td>Coffee</td>\n",
       "      <td>2017-04-09 13:04:00</td>\n",
       "      <td>afternoon</td>\n",
       "      <td>weekend</td>\n",
       "    </tr>\n",
       "    <tr>\n",
       "      <th>20490</th>\n",
       "      <td>Coffee</td>\n",
       "      <td>2017-04-09 13:49:00</td>\n",
       "      <td>afternoon</td>\n",
       "      <td>weekend</td>\n",
       "    </tr>\n",
       "    <tr>\n",
       "      <th>20502</th>\n",
       "      <td>Coffee</td>\n",
       "      <td>2017-04-09 14:32:00</td>\n",
       "      <td>afternoon</td>\n",
       "      <td>weekend</td>\n",
       "    </tr>\n",
       "    <tr>\n",
       "      <th>20504</th>\n",
       "      <td>Coffee</td>\n",
       "      <td>2017-04-09 14:57:00</td>\n",
       "      <td>afternoon</td>\n",
       "      <td>weekend</td>\n",
       "    </tr>\n",
       "  </tbody>\n",
       "</table>\n",
       "<p>5478 rows × 4 columns</p>\n",
       "</div>"
      ],
      "text/plain": [
       "         Item           date_time period_day weekday_weekend\n",
       "7      Coffee 2016-10-30 10:13:00    morning         weekend\n",
       "15     Coffee 2016-10-30 10:19:00    morning         weekend\n",
       "27     Coffee 2016-10-30 10:30:00    morning         weekend\n",
       "33     Coffee 2016-10-30 10:31:00    morning         weekend\n",
       "41     Coffee 2016-10-30 10:37:00    morning         weekend\n",
       "...       ...                 ...        ...             ...\n",
       "20483  Coffee 2017-04-09 12:32:00  afternoon         weekend\n",
       "20485  Coffee 2017-04-09 13:04:00  afternoon         weekend\n",
       "20490  Coffee 2017-04-09 13:49:00  afternoon         weekend\n",
       "20502  Coffee 2017-04-09 14:32:00  afternoon         weekend\n",
       "20504  Coffee 2017-04-09 14:57:00  afternoon         weekend\n",
       "\n",
       "[5478 rows x 4 columns]"
      ]
     },
     "execution_count": 13,
     "metadata": {},
     "output_type": "execute_result"
    }
   ],
   "source": [
    "df = data[data[\"Item\"].str.contains(\"Coffee\")]\n",
    "df"
   ]
  },
  {
   "cell_type": "code",
   "execution_count": 14,
   "id": "00281e97",
   "metadata": {
    "scrolled": true
   },
   "outputs": [
    {
     "data": {
      "text/plain": [
       "weekday    3546\n",
       "weekend    1932\n",
       "Name: weekday_weekend, dtype: int64"
      ]
     },
     "execution_count": 14,
     "metadata": {},
     "output_type": "execute_result"
    }
   ],
   "source": [
    "df[\"weekday_weekend\"].value_counts()"
   ]
  },
  {
   "cell_type": "code",
   "execution_count": 15,
   "id": "07103580",
   "metadata": {
    "scrolled": false
   },
   "outputs": [
    {
     "data": {
      "text/plain": [
       "7        Sunday\n",
       "15       Sunday\n",
       "27       Sunday\n",
       "33       Sunday\n",
       "41       Sunday\n",
       "          ...  \n",
       "20483    Sunday\n",
       "20485    Sunday\n",
       "20490    Sunday\n",
       "20502    Sunday\n",
       "20504    Sunday\n",
       "Name: date_time, Length: 5478, dtype: object"
      ]
     },
     "execution_count": 15,
     "metadata": {},
     "output_type": "execute_result"
    }
   ],
   "source": [
    "df[\"date_time\"].dt.day_name()\n"
   ]
  },
  {
   "cell_type": "code",
   "execution_count": 16,
   "id": "8310d06f",
   "metadata": {
    "scrolled": true
   },
   "outputs": [
    {
     "name": "stderr",
     "output_type": "stream",
     "text": [
      "<ipython-input-16-cb28907466c6>:1: SettingWithCopyWarning: \n",
      "A value is trying to be set on a copy of a slice from a DataFrame.\n",
      "Try using .loc[row_indexer,col_indexer] = value instead\n",
      "\n",
      "See the caveats in the documentation: https://pandas.pydata.org/pandas-docs/stable/user_guide/indexing.html#returning-a-view-versus-a-copy\n",
      "  df[\"week\"] = df[\"date_time\"].dt.day_name()\n"
     ]
    }
   ],
   "source": [
    "df[\"week\"] = df[\"date_time\"].dt.day_name()"
   ]
  },
  {
   "cell_type": "code",
   "execution_count": 31,
   "id": "9c62d41d",
   "metadata": {
    "scrolled": true
   },
   "outputs": [
    {
     "data": {
      "text/html": [
       "<div>\n",
       "<style scoped>\n",
       "    .dataframe tbody tr th:only-of-type {\n",
       "        vertical-align: middle;\n",
       "    }\n",
       "\n",
       "    .dataframe tbody tr th {\n",
       "        vertical-align: top;\n",
       "    }\n",
       "\n",
       "    .dataframe thead th {\n",
       "        text-align: right;\n",
       "    }\n",
       "</style>\n",
       "<table border=\"1\" class=\"dataframe\">\n",
       "  <thead>\n",
       "    <tr style=\"text-align: right;\">\n",
       "      <th></th>\n",
       "      <th>Item</th>\n",
       "      <th>date_time</th>\n",
       "      <th>period_day</th>\n",
       "      <th>weekday_weekend</th>\n",
       "      <th>week</th>\n",
       "    </tr>\n",
       "  </thead>\n",
       "  <tbody>\n",
       "    <tr>\n",
       "      <th>7</th>\n",
       "      <td>Coffee</td>\n",
       "      <td>2016-10-30 10:13:00</td>\n",
       "      <td>morning</td>\n",
       "      <td>weekend</td>\n",
       "      <td>Sunday</td>\n",
       "    </tr>\n",
       "    <tr>\n",
       "      <th>15</th>\n",
       "      <td>Coffee</td>\n",
       "      <td>2016-10-30 10:19:00</td>\n",
       "      <td>morning</td>\n",
       "      <td>weekend</td>\n",
       "      <td>Sunday</td>\n",
       "    </tr>\n",
       "    <tr>\n",
       "      <th>27</th>\n",
       "      <td>Coffee</td>\n",
       "      <td>2016-10-30 10:30:00</td>\n",
       "      <td>morning</td>\n",
       "      <td>weekend</td>\n",
       "      <td>Sunday</td>\n",
       "    </tr>\n",
       "    <tr>\n",
       "      <th>33</th>\n",
       "      <td>Coffee</td>\n",
       "      <td>2016-10-30 10:31:00</td>\n",
       "      <td>morning</td>\n",
       "      <td>weekend</td>\n",
       "      <td>Sunday</td>\n",
       "    </tr>\n",
       "    <tr>\n",
       "      <th>41</th>\n",
       "      <td>Coffee</td>\n",
       "      <td>2016-10-30 10:37:00</td>\n",
       "      <td>morning</td>\n",
       "      <td>weekend</td>\n",
       "      <td>Sunday</td>\n",
       "    </tr>\n",
       "    <tr>\n",
       "      <th>...</th>\n",
       "      <td>...</td>\n",
       "      <td>...</td>\n",
       "      <td>...</td>\n",
       "      <td>...</td>\n",
       "      <td>...</td>\n",
       "    </tr>\n",
       "    <tr>\n",
       "      <th>20483</th>\n",
       "      <td>Coffee</td>\n",
       "      <td>2017-04-09 12:32:00</td>\n",
       "      <td>afternoon</td>\n",
       "      <td>weekend</td>\n",
       "      <td>Sunday</td>\n",
       "    </tr>\n",
       "    <tr>\n",
       "      <th>20485</th>\n",
       "      <td>Coffee</td>\n",
       "      <td>2017-04-09 13:04:00</td>\n",
       "      <td>afternoon</td>\n",
       "      <td>weekend</td>\n",
       "      <td>Sunday</td>\n",
       "    </tr>\n",
       "    <tr>\n",
       "      <th>20490</th>\n",
       "      <td>Coffee</td>\n",
       "      <td>2017-04-09 13:49:00</td>\n",
       "      <td>afternoon</td>\n",
       "      <td>weekend</td>\n",
       "      <td>Sunday</td>\n",
       "    </tr>\n",
       "    <tr>\n",
       "      <th>20502</th>\n",
       "      <td>Coffee</td>\n",
       "      <td>2017-04-09 14:32:00</td>\n",
       "      <td>afternoon</td>\n",
       "      <td>weekend</td>\n",
       "      <td>Sunday</td>\n",
       "    </tr>\n",
       "    <tr>\n",
       "      <th>20504</th>\n",
       "      <td>Coffee</td>\n",
       "      <td>2017-04-09 14:57:00</td>\n",
       "      <td>afternoon</td>\n",
       "      <td>weekend</td>\n",
       "      <td>Sunday</td>\n",
       "    </tr>\n",
       "  </tbody>\n",
       "</table>\n",
       "<p>5478 rows × 5 columns</p>\n",
       "</div>"
      ],
      "text/plain": [
       "         Item           date_time period_day weekday_weekend    week\n",
       "7      Coffee 2016-10-30 10:13:00    morning         weekend  Sunday\n",
       "15     Coffee 2016-10-30 10:19:00    morning         weekend  Sunday\n",
       "27     Coffee 2016-10-30 10:30:00    morning         weekend  Sunday\n",
       "33     Coffee 2016-10-30 10:31:00    morning         weekend  Sunday\n",
       "41     Coffee 2016-10-30 10:37:00    morning         weekend  Sunday\n",
       "...       ...                 ...        ...             ...     ...\n",
       "20483  Coffee 2017-04-09 12:32:00  afternoon         weekend  Sunday\n",
       "20485  Coffee 2017-04-09 13:04:00  afternoon         weekend  Sunday\n",
       "20490  Coffee 2017-04-09 13:49:00  afternoon         weekend  Sunday\n",
       "20502  Coffee 2017-04-09 14:32:00  afternoon         weekend  Sunday\n",
       "20504  Coffee 2017-04-09 14:57:00  afternoon         weekend  Sunday\n",
       "\n",
       "[5478 rows x 5 columns]"
      ]
     },
     "metadata": {},
     "output_type": "display_data"
    }
   ],
   "source": [
    "display(df)"
   ]
  },
  {
   "cell_type": "code",
   "execution_count": 18,
   "id": "c76fa4d5",
   "metadata": {},
   "outputs": [
    {
     "data": {
      "text/plain": [
       "Saturday     1106\n",
       "Friday        855\n",
       "Sunday        826\n",
       "Tuesday       710\n",
       "Monday        683\n",
       "Thursday      670\n",
       "Wednesday     628\n",
       "Name: week, dtype: int64"
      ]
     },
     "execution_count": 18,
     "metadata": {},
     "output_type": "execute_result"
    }
   ],
   "source": [
    "df.week.value_counts()"
   ]
  },
  {
   "cell_type": "markdown",
   "id": "44b6ce4c",
   "metadata": {},
   "source": [
    "## Answer: on Saturday"
   ]
  },
  {
   "cell_type": "markdown",
   "id": "00ae7acd",
   "metadata": {},
   "source": [
    "## 2. Ստուգել՝ կա՞ արդյոք կորելացիա Tea և Jam ապրանքների միջև"
   ]
  },
  {
   "cell_type": "code",
   "execution_count": 19,
   "id": "c64bcac8",
   "metadata": {},
   "outputs": [
    {
     "data": {
      "text/html": [
       "<div>\n",
       "<style scoped>\n",
       "    .dataframe tbody tr th:only-of-type {\n",
       "        vertical-align: middle;\n",
       "    }\n",
       "\n",
       "    .dataframe tbody tr th {\n",
       "        vertical-align: top;\n",
       "    }\n",
       "\n",
       "    .dataframe thead th {\n",
       "        text-align: right;\n",
       "    }\n",
       "</style>\n",
       "<table border=\"1\" class=\"dataframe\">\n",
       "  <thead>\n",
       "    <tr style=\"text-align: right;\">\n",
       "      <th></th>\n",
       "      <th>Item</th>\n",
       "      <th>period_day</th>\n",
       "      <th>weekday_weekend</th>\n",
       "      <th>week</th>\n",
       "    </tr>\n",
       "  </thead>\n",
       "  <tbody>\n",
       "    <tr>\n",
       "      <th>0</th>\n",
       "      <td>Bread</td>\n",
       "      <td>morning</td>\n",
       "      <td>weekend</td>\n",
       "      <td>Sunday</td>\n",
       "    </tr>\n",
       "    <tr>\n",
       "      <th>1</th>\n",
       "      <td>Scandinavian</td>\n",
       "      <td>morning</td>\n",
       "      <td>weekend</td>\n",
       "      <td>Sunday</td>\n",
       "    </tr>\n",
       "    <tr>\n",
       "      <th>2</th>\n",
       "      <td>Scandinavian</td>\n",
       "      <td>morning</td>\n",
       "      <td>weekend</td>\n",
       "      <td>Sunday</td>\n",
       "    </tr>\n",
       "    <tr>\n",
       "      <th>3</th>\n",
       "      <td>Hot chocolate</td>\n",
       "      <td>morning</td>\n",
       "      <td>weekend</td>\n",
       "      <td>Sunday</td>\n",
       "    </tr>\n",
       "    <tr>\n",
       "      <th>4</th>\n",
       "      <td>Jam</td>\n",
       "      <td>morning</td>\n",
       "      <td>weekend</td>\n",
       "      <td>Sunday</td>\n",
       "    </tr>\n",
       "    <tr>\n",
       "      <th>...</th>\n",
       "      <td>...</td>\n",
       "      <td>...</td>\n",
       "      <td>...</td>\n",
       "      <td>...</td>\n",
       "    </tr>\n",
       "    <tr>\n",
       "      <th>20502</th>\n",
       "      <td>Coffee</td>\n",
       "      <td>afternoon</td>\n",
       "      <td>weekend</td>\n",
       "      <td>Sunday</td>\n",
       "    </tr>\n",
       "    <tr>\n",
       "      <th>20503</th>\n",
       "      <td>Tea</td>\n",
       "      <td>afternoon</td>\n",
       "      <td>weekend</td>\n",
       "      <td>Sunday</td>\n",
       "    </tr>\n",
       "    <tr>\n",
       "      <th>20504</th>\n",
       "      <td>Coffee</td>\n",
       "      <td>afternoon</td>\n",
       "      <td>weekend</td>\n",
       "      <td>Sunday</td>\n",
       "    </tr>\n",
       "    <tr>\n",
       "      <th>20505</th>\n",
       "      <td>Pastry</td>\n",
       "      <td>afternoon</td>\n",
       "      <td>weekend</td>\n",
       "      <td>Sunday</td>\n",
       "    </tr>\n",
       "    <tr>\n",
       "      <th>20506</th>\n",
       "      <td>Smoothies</td>\n",
       "      <td>afternoon</td>\n",
       "      <td>weekend</td>\n",
       "      <td>Sunday</td>\n",
       "    </tr>\n",
       "  </tbody>\n",
       "</table>\n",
       "<p>20507 rows × 4 columns</p>\n",
       "</div>"
      ],
      "text/plain": [
       "                Item period_day weekday_weekend    week\n",
       "0              Bread    morning         weekend  Sunday\n",
       "1       Scandinavian    morning         weekend  Sunday\n",
       "2       Scandinavian    morning         weekend  Sunday\n",
       "3      Hot chocolate    morning         weekend  Sunday\n",
       "4                Jam    morning         weekend  Sunday\n",
       "...              ...        ...             ...     ...\n",
       "20502         Coffee  afternoon         weekend  Sunday\n",
       "20503            Tea  afternoon         weekend  Sunday\n",
       "20504         Coffee  afternoon         weekend  Sunday\n",
       "20505         Pastry  afternoon         weekend  Sunday\n",
       "20506      Smoothies  afternoon         weekend  Sunday\n",
       "\n",
       "[20507 rows x 4 columns]"
      ]
     },
     "execution_count": 19,
     "metadata": {},
     "output_type": "execute_result"
    }
   ],
   "source": [
    "data[\"week\"] = data[\"date_time\"].dt.day_name()\n",
    "data.drop(\"date_time\", axis = 1)"
   ]
  },
  {
   "cell_type": "code",
   "execution_count": 20,
   "id": "dab73672",
   "metadata": {
    "scrolled": true
   },
   "outputs": [
    {
     "name": "stdout",
     "output_type": "stream",
     "text": [
      "Tea    1435\n",
      "Name: Item, dtype: int64\n",
      "Jam               149\n",
      "Jammie Dodgers    125\n",
      "Name: Item, dtype: int64\n"
     ]
    }
   ],
   "source": [
    "data_tea = data[data[\"Item\"].str.contains(\"Tea\")]\n",
    "data_jam = data[data[\"Item\"].str.contains(\"Jam\")]\n",
    "print(data_tea.Item.value_counts())\n",
    "print(data_jam.Item.value_counts())"
   ]
  },
  {
   "cell_type": "code",
   "execution_count": 21,
   "id": "1faf4c5e",
   "metadata": {},
   "outputs": [
    {
     "data": {
      "text/plain": [
       "Jam    149\n",
       "Name: Item, dtype: int64"
      ]
     },
     "execution_count": 21,
     "metadata": {},
     "output_type": "execute_result"
    }
   ],
   "source": [
    "data_jam = data_jam[~data_jam[\"Item\"].str.contains(\"Jammie Dodgers\")]\n",
    "data_jam.Item.value_counts()"
   ]
  },
  {
   "cell_type": "code",
   "execution_count": 22,
   "id": "606a62be",
   "metadata": {
    "scrolled": true
   },
   "outputs": [
    {
     "data": {
      "text/html": [
       "<div>\n",
       "<style scoped>\n",
       "    .dataframe tbody tr th:only-of-type {\n",
       "        vertical-align: middle;\n",
       "    }\n",
       "\n",
       "    .dataframe tbody tr th {\n",
       "        vertical-align: top;\n",
       "    }\n",
       "\n",
       "    .dataframe thead th {\n",
       "        text-align: right;\n",
       "    }\n",
       "</style>\n",
       "<table border=\"1\" class=\"dataframe\">\n",
       "  <thead>\n",
       "    <tr style=\"text-align: right;\">\n",
       "      <th></th>\n",
       "      <th>Item</th>\n",
       "      <th>date_time</th>\n",
       "      <th>period_day</th>\n",
       "      <th>weekday_weekend</th>\n",
       "      <th>week</th>\n",
       "    </tr>\n",
       "  </thead>\n",
       "  <tbody>\n",
       "    <tr>\n",
       "      <th>16</th>\n",
       "      <td>Tea</td>\n",
       "      <td>2016-10-30 10:19:00</td>\n",
       "      <td>morning</td>\n",
       "      <td>weekend</td>\n",
       "      <td>Sunday</td>\n",
       "    </tr>\n",
       "    <tr>\n",
       "      <th>30</th>\n",
       "      <td>Tea</td>\n",
       "      <td>2016-10-30 10:30:00</td>\n",
       "      <td>morning</td>\n",
       "      <td>weekend</td>\n",
       "      <td>Sunday</td>\n",
       "    </tr>\n",
       "    <tr>\n",
       "      <th>72</th>\n",
       "      <td>Tea</td>\n",
       "      <td>2016-10-30 11:33:00</td>\n",
       "      <td>morning</td>\n",
       "      <td>weekend</td>\n",
       "      <td>Sunday</td>\n",
       "    </tr>\n",
       "    <tr>\n",
       "      <th>77</th>\n",
       "      <td>Tea</td>\n",
       "      <td>2016-10-30 11:42:00</td>\n",
       "      <td>morning</td>\n",
       "      <td>weekend</td>\n",
       "      <td>Sunday</td>\n",
       "    </tr>\n",
       "    <tr>\n",
       "      <th>85</th>\n",
       "      <td>Tea</td>\n",
       "      <td>2016-10-30 11:57:00</td>\n",
       "      <td>morning</td>\n",
       "      <td>weekend</td>\n",
       "      <td>Sunday</td>\n",
       "    </tr>\n",
       "    <tr>\n",
       "      <th>...</th>\n",
       "      <td>...</td>\n",
       "      <td>...</td>\n",
       "      <td>...</td>\n",
       "      <td>...</td>\n",
       "      <td>...</td>\n",
       "    </tr>\n",
       "    <tr>\n",
       "      <th>18342</th>\n",
       "      <td>Jam</td>\n",
       "      <td>2017-03-24 14:46:00</td>\n",
       "      <td>afternoon</td>\n",
       "      <td>weekday</td>\n",
       "      <td>Friday</td>\n",
       "    </tr>\n",
       "    <tr>\n",
       "      <th>18622</th>\n",
       "      <td>Jam</td>\n",
       "      <td>2017-03-26 09:13:00</td>\n",
       "      <td>morning</td>\n",
       "      <td>weekend</td>\n",
       "      <td>Sunday</td>\n",
       "    </tr>\n",
       "    <tr>\n",
       "      <th>18646</th>\n",
       "      <td>Jam</td>\n",
       "      <td>2017-03-26 10:38:00</td>\n",
       "      <td>morning</td>\n",
       "      <td>weekend</td>\n",
       "      <td>Sunday</td>\n",
       "    </tr>\n",
       "    <tr>\n",
       "      <th>19879</th>\n",
       "      <td>Jam</td>\n",
       "      <td>2017-04-05 08:37:00</td>\n",
       "      <td>morning</td>\n",
       "      <td>weekday</td>\n",
       "      <td>Wednesday</td>\n",
       "    </tr>\n",
       "    <tr>\n",
       "      <th>20362</th>\n",
       "      <td>Jam</td>\n",
       "      <td>2017-04-08 14:06:00</td>\n",
       "      <td>afternoon</td>\n",
       "      <td>weekend</td>\n",
       "      <td>Saturday</td>\n",
       "    </tr>\n",
       "  </tbody>\n",
       "</table>\n",
       "<p>1584 rows × 5 columns</p>\n",
       "</div>"
      ],
      "text/plain": [
       "      Item           date_time period_day weekday_weekend       week\n",
       "16     Tea 2016-10-30 10:19:00    morning         weekend     Sunday\n",
       "30     Tea 2016-10-30 10:30:00    morning         weekend     Sunday\n",
       "72     Tea 2016-10-30 11:33:00    morning         weekend     Sunday\n",
       "77     Tea 2016-10-30 11:42:00    morning         weekend     Sunday\n",
       "85     Tea 2016-10-30 11:57:00    morning         weekend     Sunday\n",
       "...    ...                 ...        ...             ...        ...\n",
       "18342  Jam 2017-03-24 14:46:00  afternoon         weekday     Friday\n",
       "18622  Jam 2017-03-26 09:13:00    morning         weekend     Sunday\n",
       "18646  Jam 2017-03-26 10:38:00    morning         weekend     Sunday\n",
       "19879  Jam 2017-04-05 08:37:00    morning         weekday  Wednesday\n",
       "20362  Jam 2017-04-08 14:06:00  afternoon         weekend   Saturday\n",
       "\n",
       "[1584 rows x 5 columns]"
      ]
     },
     "metadata": {},
     "output_type": "display_data"
    }
   ],
   "source": [
    "df_corr = [data_tea, data_jam]\n",
    "  \n",
    "result = pd.concat(df_corr)\n",
    "display(result)"
   ]
  },
  {
   "cell_type": "code",
   "execution_count": null,
   "id": "af4df3b5",
   "metadata": {},
   "outputs": [],
   "source": []
  },
  {
   "cell_type": "code",
   "execution_count": 24,
   "id": "087ffd2d",
   "metadata": {},
   "outputs": [],
   "source": [
    "result = result.drop(\"date_time\", axis = 1)"
   ]
  },
  {
   "cell_type": "code",
   "execution_count": 25,
   "id": "a10b93ce",
   "metadata": {},
   "outputs": [
    {
     "data": {
      "text/html": [
       "<div>\n",
       "<style scoped>\n",
       "    .dataframe tbody tr th:only-of-type {\n",
       "        vertical-align: middle;\n",
       "    }\n",
       "\n",
       "    .dataframe tbody tr th {\n",
       "        vertical-align: top;\n",
       "    }\n",
       "\n",
       "    .dataframe thead th {\n",
       "        text-align: right;\n",
       "    }\n",
       "</style>\n",
       "<table border=\"1\" class=\"dataframe\">\n",
       "  <thead>\n",
       "    <tr style=\"text-align: right;\">\n",
       "      <th></th>\n",
       "      <th>Item</th>\n",
       "      <th>period_day</th>\n",
       "      <th>weekday_weekend</th>\n",
       "      <th>week</th>\n",
       "    </tr>\n",
       "  </thead>\n",
       "  <tbody>\n",
       "    <tr>\n",
       "      <th>16</th>\n",
       "      <td>Tea</td>\n",
       "      <td>morning</td>\n",
       "      <td>weekend</td>\n",
       "      <td>Sunday</td>\n",
       "    </tr>\n",
       "    <tr>\n",
       "      <th>30</th>\n",
       "      <td>Tea</td>\n",
       "      <td>morning</td>\n",
       "      <td>weekend</td>\n",
       "      <td>Sunday</td>\n",
       "    </tr>\n",
       "    <tr>\n",
       "      <th>72</th>\n",
       "      <td>Tea</td>\n",
       "      <td>morning</td>\n",
       "      <td>weekend</td>\n",
       "      <td>Sunday</td>\n",
       "    </tr>\n",
       "    <tr>\n",
       "      <th>77</th>\n",
       "      <td>Tea</td>\n",
       "      <td>morning</td>\n",
       "      <td>weekend</td>\n",
       "      <td>Sunday</td>\n",
       "    </tr>\n",
       "    <tr>\n",
       "      <th>85</th>\n",
       "      <td>Tea</td>\n",
       "      <td>morning</td>\n",
       "      <td>weekend</td>\n",
       "      <td>Sunday</td>\n",
       "    </tr>\n",
       "    <tr>\n",
       "      <th>...</th>\n",
       "      <td>...</td>\n",
       "      <td>...</td>\n",
       "      <td>...</td>\n",
       "      <td>...</td>\n",
       "    </tr>\n",
       "    <tr>\n",
       "      <th>18342</th>\n",
       "      <td>Jam</td>\n",
       "      <td>afternoon</td>\n",
       "      <td>weekday</td>\n",
       "      <td>Friday</td>\n",
       "    </tr>\n",
       "    <tr>\n",
       "      <th>18622</th>\n",
       "      <td>Jam</td>\n",
       "      <td>morning</td>\n",
       "      <td>weekend</td>\n",
       "      <td>Sunday</td>\n",
       "    </tr>\n",
       "    <tr>\n",
       "      <th>18646</th>\n",
       "      <td>Jam</td>\n",
       "      <td>morning</td>\n",
       "      <td>weekend</td>\n",
       "      <td>Sunday</td>\n",
       "    </tr>\n",
       "    <tr>\n",
       "      <th>19879</th>\n",
       "      <td>Jam</td>\n",
       "      <td>morning</td>\n",
       "      <td>weekday</td>\n",
       "      <td>Wednesday</td>\n",
       "    </tr>\n",
       "    <tr>\n",
       "      <th>20362</th>\n",
       "      <td>Jam</td>\n",
       "      <td>afternoon</td>\n",
       "      <td>weekend</td>\n",
       "      <td>Saturday</td>\n",
       "    </tr>\n",
       "  </tbody>\n",
       "</table>\n",
       "<p>1584 rows × 4 columns</p>\n",
       "</div>"
      ],
      "text/plain": [
       "      Item period_day weekday_weekend       week\n",
       "16     Tea    morning         weekend     Sunday\n",
       "30     Tea    morning         weekend     Sunday\n",
       "72     Tea    morning         weekend     Sunday\n",
       "77     Tea    morning         weekend     Sunday\n",
       "85     Tea    morning         weekend     Sunday\n",
       "...    ...        ...             ...        ...\n",
       "18342  Jam  afternoon         weekday     Friday\n",
       "18622  Jam    morning         weekend     Sunday\n",
       "18646  Jam    morning         weekend     Sunday\n",
       "19879  Jam    morning         weekday  Wednesday\n",
       "20362  Jam  afternoon         weekend   Saturday\n",
       "\n",
       "[1584 rows x 4 columns]"
      ]
     },
     "execution_count": 25,
     "metadata": {},
     "output_type": "execute_result"
    }
   ],
   "source": [
    "result"
   ]
  },
  {
   "cell_type": "code",
   "execution_count": 26,
   "id": "b9c48472",
   "metadata": {},
   "outputs": [
    {
     "data": {
      "text/html": [
       "<div>\n",
       "<style scoped>\n",
       "    .dataframe tbody tr th:only-of-type {\n",
       "        vertical-align: middle;\n",
       "    }\n",
       "\n",
       "    .dataframe tbody tr th {\n",
       "        vertical-align: top;\n",
       "    }\n",
       "\n",
       "    .dataframe thead th {\n",
       "        text-align: right;\n",
       "    }\n",
       "</style>\n",
       "<table border=\"1\" class=\"dataframe\">\n",
       "  <thead>\n",
       "    <tr style=\"text-align: right;\">\n",
       "      <th></th>\n",
       "      <th>Item</th>\n",
       "      <th>period_day</th>\n",
       "      <th>weekday_weekend</th>\n",
       "      <th>week</th>\n",
       "    </tr>\n",
       "  </thead>\n",
       "  <tbody>\n",
       "    <tr>\n",
       "      <th>count</th>\n",
       "      <td>1584</td>\n",
       "      <td>1584</td>\n",
       "      <td>1584</td>\n",
       "      <td>1584</td>\n",
       "    </tr>\n",
       "    <tr>\n",
       "      <th>unique</th>\n",
       "      <td>2</td>\n",
       "      <td>3</td>\n",
       "      <td>2</td>\n",
       "      <td>7</td>\n",
       "    </tr>\n",
       "    <tr>\n",
       "      <th>top</th>\n",
       "      <td>Tea</td>\n",
       "      <td>afternoon</td>\n",
       "      <td>weekday</td>\n",
       "      <td>Saturday</td>\n",
       "    </tr>\n",
       "    <tr>\n",
       "      <th>freq</th>\n",
       "      <td>1435</td>\n",
       "      <td>991</td>\n",
       "      <td>1062</td>\n",
       "      <td>327</td>\n",
       "    </tr>\n",
       "  </tbody>\n",
       "</table>\n",
       "</div>"
      ],
      "text/plain": [
       "        Item period_day weekday_weekend      week\n",
       "count   1584       1584            1584      1584\n",
       "unique     2          3               2         7\n",
       "top      Tea  afternoon         weekday  Saturday\n",
       "freq    1435        991            1062       327"
      ]
     },
     "execution_count": 26,
     "metadata": {},
     "output_type": "execute_result"
    }
   ],
   "source": [
    "result.describe()"
   ]
  },
  {
   "cell_type": "code",
   "execution_count": 27,
   "id": "fc9a3d51",
   "metadata": {},
   "outputs": [
    {
     "data": {
      "text/html": [
       "<div>\n",
       "<style scoped>\n",
       "    .dataframe tbody tr th:only-of-type {\n",
       "        vertical-align: middle;\n",
       "    }\n",
       "\n",
       "    .dataframe tbody tr th {\n",
       "        vertical-align: top;\n",
       "    }\n",
       "\n",
       "    .dataframe thead th {\n",
       "        text-align: right;\n",
       "    }\n",
       "</style>\n",
       "<table border=\"1\" class=\"dataframe\">\n",
       "  <thead>\n",
       "    <tr style=\"text-align: right;\">\n",
       "      <th></th>\n",
       "      <th>Item_Jam</th>\n",
       "      <th>Item_Tea</th>\n",
       "      <th>period_day_afternoon</th>\n",
       "      <th>period_day_evening</th>\n",
       "      <th>period_day_morning</th>\n",
       "      <th>weekday_weekend_weekday</th>\n",
       "      <th>weekday_weekend_weekend</th>\n",
       "      <th>week_Friday</th>\n",
       "      <th>week_Monday</th>\n",
       "      <th>week_Saturday</th>\n",
       "      <th>week_Sunday</th>\n",
       "      <th>week_Thursday</th>\n",
       "      <th>week_Tuesday</th>\n",
       "      <th>week_Wednesday</th>\n",
       "    </tr>\n",
       "  </thead>\n",
       "  <tbody>\n",
       "    <tr>\n",
       "      <th>16</th>\n",
       "      <td>0</td>\n",
       "      <td>1</td>\n",
       "      <td>0</td>\n",
       "      <td>0</td>\n",
       "      <td>1</td>\n",
       "      <td>0</td>\n",
       "      <td>1</td>\n",
       "      <td>0</td>\n",
       "      <td>0</td>\n",
       "      <td>0</td>\n",
       "      <td>1</td>\n",
       "      <td>0</td>\n",
       "      <td>0</td>\n",
       "      <td>0</td>\n",
       "    </tr>\n",
       "    <tr>\n",
       "      <th>30</th>\n",
       "      <td>0</td>\n",
       "      <td>1</td>\n",
       "      <td>0</td>\n",
       "      <td>0</td>\n",
       "      <td>1</td>\n",
       "      <td>0</td>\n",
       "      <td>1</td>\n",
       "      <td>0</td>\n",
       "      <td>0</td>\n",
       "      <td>0</td>\n",
       "      <td>1</td>\n",
       "      <td>0</td>\n",
       "      <td>0</td>\n",
       "      <td>0</td>\n",
       "    </tr>\n",
       "    <tr>\n",
       "      <th>72</th>\n",
       "      <td>0</td>\n",
       "      <td>1</td>\n",
       "      <td>0</td>\n",
       "      <td>0</td>\n",
       "      <td>1</td>\n",
       "      <td>0</td>\n",
       "      <td>1</td>\n",
       "      <td>0</td>\n",
       "      <td>0</td>\n",
       "      <td>0</td>\n",
       "      <td>1</td>\n",
       "      <td>0</td>\n",
       "      <td>0</td>\n",
       "      <td>0</td>\n",
       "    </tr>\n",
       "    <tr>\n",
       "      <th>77</th>\n",
       "      <td>0</td>\n",
       "      <td>1</td>\n",
       "      <td>0</td>\n",
       "      <td>0</td>\n",
       "      <td>1</td>\n",
       "      <td>0</td>\n",
       "      <td>1</td>\n",
       "      <td>0</td>\n",
       "      <td>0</td>\n",
       "      <td>0</td>\n",
       "      <td>1</td>\n",
       "      <td>0</td>\n",
       "      <td>0</td>\n",
       "      <td>0</td>\n",
       "    </tr>\n",
       "    <tr>\n",
       "      <th>85</th>\n",
       "      <td>0</td>\n",
       "      <td>1</td>\n",
       "      <td>0</td>\n",
       "      <td>0</td>\n",
       "      <td>1</td>\n",
       "      <td>0</td>\n",
       "      <td>1</td>\n",
       "      <td>0</td>\n",
       "      <td>0</td>\n",
       "      <td>0</td>\n",
       "      <td>1</td>\n",
       "      <td>0</td>\n",
       "      <td>0</td>\n",
       "      <td>0</td>\n",
       "    </tr>\n",
       "    <tr>\n",
       "      <th>...</th>\n",
       "      <td>...</td>\n",
       "      <td>...</td>\n",
       "      <td>...</td>\n",
       "      <td>...</td>\n",
       "      <td>...</td>\n",
       "      <td>...</td>\n",
       "      <td>...</td>\n",
       "      <td>...</td>\n",
       "      <td>...</td>\n",
       "      <td>...</td>\n",
       "      <td>...</td>\n",
       "      <td>...</td>\n",
       "      <td>...</td>\n",
       "      <td>...</td>\n",
       "    </tr>\n",
       "    <tr>\n",
       "      <th>18342</th>\n",
       "      <td>1</td>\n",
       "      <td>0</td>\n",
       "      <td>1</td>\n",
       "      <td>0</td>\n",
       "      <td>0</td>\n",
       "      <td>1</td>\n",
       "      <td>0</td>\n",
       "      <td>1</td>\n",
       "      <td>0</td>\n",
       "      <td>0</td>\n",
       "      <td>0</td>\n",
       "      <td>0</td>\n",
       "      <td>0</td>\n",
       "      <td>0</td>\n",
       "    </tr>\n",
       "    <tr>\n",
       "      <th>18622</th>\n",
       "      <td>1</td>\n",
       "      <td>0</td>\n",
       "      <td>0</td>\n",
       "      <td>0</td>\n",
       "      <td>1</td>\n",
       "      <td>0</td>\n",
       "      <td>1</td>\n",
       "      <td>0</td>\n",
       "      <td>0</td>\n",
       "      <td>0</td>\n",
       "      <td>1</td>\n",
       "      <td>0</td>\n",
       "      <td>0</td>\n",
       "      <td>0</td>\n",
       "    </tr>\n",
       "    <tr>\n",
       "      <th>18646</th>\n",
       "      <td>1</td>\n",
       "      <td>0</td>\n",
       "      <td>0</td>\n",
       "      <td>0</td>\n",
       "      <td>1</td>\n",
       "      <td>0</td>\n",
       "      <td>1</td>\n",
       "      <td>0</td>\n",
       "      <td>0</td>\n",
       "      <td>0</td>\n",
       "      <td>1</td>\n",
       "      <td>0</td>\n",
       "      <td>0</td>\n",
       "      <td>0</td>\n",
       "    </tr>\n",
       "    <tr>\n",
       "      <th>19879</th>\n",
       "      <td>1</td>\n",
       "      <td>0</td>\n",
       "      <td>0</td>\n",
       "      <td>0</td>\n",
       "      <td>1</td>\n",
       "      <td>1</td>\n",
       "      <td>0</td>\n",
       "      <td>0</td>\n",
       "      <td>0</td>\n",
       "      <td>0</td>\n",
       "      <td>0</td>\n",
       "      <td>0</td>\n",
       "      <td>0</td>\n",
       "      <td>1</td>\n",
       "    </tr>\n",
       "    <tr>\n",
       "      <th>20362</th>\n",
       "      <td>1</td>\n",
       "      <td>0</td>\n",
       "      <td>1</td>\n",
       "      <td>0</td>\n",
       "      <td>0</td>\n",
       "      <td>0</td>\n",
       "      <td>1</td>\n",
       "      <td>0</td>\n",
       "      <td>0</td>\n",
       "      <td>1</td>\n",
       "      <td>0</td>\n",
       "      <td>0</td>\n",
       "      <td>0</td>\n",
       "      <td>0</td>\n",
       "    </tr>\n",
       "  </tbody>\n",
       "</table>\n",
       "<p>1584 rows × 14 columns</p>\n",
       "</div>"
      ],
      "text/plain": [
       "       Item_Jam  Item_Tea  period_day_afternoon  period_day_evening  \\\n",
       "16            0         1                     0                   0   \n",
       "30            0         1                     0                   0   \n",
       "72            0         1                     0                   0   \n",
       "77            0         1                     0                   0   \n",
       "85            0         1                     0                   0   \n",
       "...         ...       ...                   ...                 ...   \n",
       "18342         1         0                     1                   0   \n",
       "18622         1         0                     0                   0   \n",
       "18646         1         0                     0                   0   \n",
       "19879         1         0                     0                   0   \n",
       "20362         1         0                     1                   0   \n",
       "\n",
       "       period_day_morning  weekday_weekend_weekday  weekday_weekend_weekend  \\\n",
       "16                      1                        0                        1   \n",
       "30                      1                        0                        1   \n",
       "72                      1                        0                        1   \n",
       "77                      1                        0                        1   \n",
       "85                      1                        0                        1   \n",
       "...                   ...                      ...                      ...   \n",
       "18342                   0                        1                        0   \n",
       "18622                   1                        0                        1   \n",
       "18646                   1                        0                        1   \n",
       "19879                   1                        1                        0   \n",
       "20362                   0                        0                        1   \n",
       "\n",
       "       week_Friday  week_Monday  week_Saturday  week_Sunday  week_Thursday  \\\n",
       "16               0            0              0            1              0   \n",
       "30               0            0              0            1              0   \n",
       "72               0            0              0            1              0   \n",
       "77               0            0              0            1              0   \n",
       "85               0            0              0            1              0   \n",
       "...            ...          ...            ...          ...            ...   \n",
       "18342            1            0              0            0              0   \n",
       "18622            0            0              0            1              0   \n",
       "18646            0            0              0            1              0   \n",
       "19879            0            0              0            0              0   \n",
       "20362            0            0              1            0              0   \n",
       "\n",
       "       week_Tuesday  week_Wednesday  \n",
       "16                0               0  \n",
       "30                0               0  \n",
       "72                0               0  \n",
       "77                0               0  \n",
       "85                0               0  \n",
       "...             ...             ...  \n",
       "18342             0               0  \n",
       "18622             0               0  \n",
       "18646             0               0  \n",
       "19879             0               1  \n",
       "20362             0               0  \n",
       "\n",
       "[1584 rows x 14 columns]"
      ]
     },
     "execution_count": 27,
     "metadata": {},
     "output_type": "execute_result"
    }
   ],
   "source": [
    "data_dummy = pd.get_dummies(result, drop_first=False)\n",
    "data_dummy"
   ]
  },
  {
   "cell_type": "code",
   "execution_count": 34,
   "id": "29a81851",
   "metadata": {
    "scrolled": true
   },
   "outputs": [
    {
     "data": {
      "image/png": "[encoded data removed]",
      "text/plain": [
       "<Figure size 864x720 with 2 Axes>"
      ]
     },
     "metadata": {
      "needs_background": "light"
     },
     "output_type": "display_data"
    }
   ],
   "source": [
    "plt.figure(figsize=(12,10))\n",
    "sns.heatmap(data_dummy.corr(), annot = True)\n",
    "plt.show()"
   ]
  },
  {
   "cell_type": "markdown",
   "id": "6bc520bc",
   "metadata": {},
   "source": [
    "## Answer: Yes, there is 100% correlation between them, which means that they are highly dependent on one other"
   ]
  },
  {
   "cell_type": "markdown",
   "id": "76eaba0a",
   "metadata": {},
   "source": [
    "## 3. Ո՞րն է ամենաշատ վաճառվող ապրանքը ցանկում։"
   ]
  },
  {
   "cell_type": "code",
   "execution_count": 58,
   "id": "86402bfa",
   "metadata": {
    "scrolled": true
   },
   "outputs": [
    {
     "data": {
      "text/plain": [
       "Coffee    5471\n",
       "Name: Item, dtype: int64"
      ]
     },
     "execution_count": 58,
     "metadata": {},
     "output_type": "execute_result"
    }
   ],
   "source": [
    "data.Item.value_counts().head(1)"
   ]
  },
  {
   "cell_type": "markdown",
   "id": "e3d14bbc",
   "metadata": {},
   "source": [
    "## Answer: Coffee\n"
   ]
  },
  {
   "cell_type": "code",
   "execution_count": 30,
   "id": "e33ca1c8",
   "metadata": {},
   "outputs": [
    {
     "name": "stdout",
     "output_type": "stream",
     "text": [
      "coffee\n"
     ]
    }
   ],
   "source": [
    "print(\"coffee\")"
   ]
  },
  {
   "cell_type": "code",
   "execution_count": null,
   "id": "0f083b17",
   "metadata": {},
   "outputs": [],
   "source": []
  }
 ],
 "metadata": {
  "kernelspec": {
   "display_name": "Python 3",
   "language": "python",
   "name": "python3"
  },
  "language_info": {
   "codemirror_mode": {
    "name": "ipython",
    "version": 3
   },
   "file_extension": ".py",
   "mimetype": "text/x-python",
   "name": "python",
   "nbconvert_exporter": "python",
   "pygments_lexer": "ipython3",
   "version": "3.8.8"
  }
 },
 "nbformat": 4,
 "nbformat_minor": 5
}
